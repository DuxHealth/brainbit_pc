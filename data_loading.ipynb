{
 "cells": [
  {
   "cell_type": "code",
   "id": "initial_id",
   "metadata": {
    "collapsed": true,
    "ExecuteTime": {
     "end_time": "2024-10-28T06:45:02.996633Z",
     "start_time": "2024-10-28T06:45:02.898718Z"
    }
   },
   "source": [
    "import pandas as pd\n",
    "from tqdm import tqdm\n",
    "\n",
    "%load_ext autoreload\n",
    "%autoreload 2"
   ],
   "outputs": [
    {
     "name": "stdout",
     "output_type": "stream",
     "text": [
      "The autoreload extension is already loaded. To reload it, use:\n",
      "  %reload_ext autoreload\n"
     ]
    }
   ],
   "execution_count": 14
  },
  {
   "metadata": {
    "ExecuteTime": {
     "end_time": "2024-10-28T06:51:39.933006Z",
     "start_time": "2024-10-28T06:51:17.585404Z"
    }
   },
   "cell_type": "code",
   "source": [
    "# Load the data\n",
    "file_path = r\"C:\\Users\\noam\\OneDrive\\Desktop\\dux\\data\\20180612224141_Patient08.sdeeg.sdeegConverted.easy\"\n",
    "df = pd.read_csv(file_path, sep='\\t', skiprows=1, header=None)"
   ],
   "id": "78592898576f7167",
   "outputs": [],
   "execution_count": 5
  },
  {
   "metadata": {
    "ExecuteTime": {
     "end_time": "2024-10-28T06:31:40.353904Z",
     "start_time": "2024-10-28T06:31:39.130633Z"
    }
   },
   "cell_type": "code",
   "source": "df.abs().max()/1e9",
   "id": "77ec74da59ed513f",
   "outputs": [
    {
     "data": {
      "text/plain": [
       "0     0.199972\n",
       "1     0.221918\n",
       "2     0.168705\n",
       "3     0.215685\n",
       "4     0.181278\n",
       "5     0.187500\n",
       "6     0.400000\n",
       "7     0.368693\n",
       "8     0.000021\n",
       "9     0.000016\n",
       "10    0.000012\n",
       "11    0.000000\n",
       "12    0.051149\n",
       "dtype: float64"
      ]
     },
     "execution_count": 9,
     "metadata": {},
     "output_type": "execute_result"
    }
   ],
   "execution_count": 9
  },
  {
   "metadata": {
    "ExecuteTime": {
     "end_time": "2024-10-28T06:51:07.499770Z",
     "start_time": "2024-10-28T06:51:07.470566Z"
    }
   },
   "cell_type": "code",
   "source": [
    "import pandas as pd\n",
    "import pyedflib\n",
    "import datetime\n",
    "\n",
    "# Load the data from .easy format\n",
    "column_names = ['Ch' + str(i+1) for i in range(8)] + ['aX', 'aY', 'aZ', 'Trigger', 'Timestamp']\n",
    "\n",
    "data = pd.read_csv(file_path, delimiter='\\t', names=column_names)\n",
    "\n",
    "# Convert units from nanovolts (nV) to microvolts (µV) as EDF standard uses µV\n",
    "# Extract data and timestamps\n",
    "eeg_data = data.iloc[:, :8].values/1000  # EEG channels\n",
    "accel_data = data[['aX', 'aY', 'aZ']].values  # Acceleration channels\n",
    "trigger_data = data['Trigger'].values\n",
    "timestamp_data = data['Timestamp'].values  # Timestamps\n",
    "\n",
    "# Set up EDF file parameters\n",
    "num_channels = 8\n",
    "sampling_rate = 500  # Sampling rate in Hz\n",
    "duration = len(eeg_data) / sampling_rate\n",
    "num_samples = eeg_data.shape[0]\n",
    "\n",
    "# EDF file creation\n",
    "edf_file_path = 'output_data.edf'\n",
    "with pyedflib.EdfWriter(edf_file_path, num_channels, file_type=pyedflib.FILETYPE_EDFPLUS) as edf:\n",
    "    # Configure channel parameters\n",
    "    channel_info = [{'label': f'EEG Ch{i+1}', 'dimension': 'µV', 'sample_rate': sampling_rate, 'physical_min': -400000, 'physical_max': 400000, 'digital_min': -32768, 'digital_max': 32767, 'transducer': '', 'prefilter': ''} for i in range(num_channels)]\n",
    "    \n",
    "    edf.setSignalHeaders(channel_info)\n",
    "    # edf.setStartdatetime(datetime.datetime.fromtimestamp(timestamp_data[0] / 1000))\n",
    "    \n",
    "    # Write data to EDF\n",
    "     # Write data to EDF in chunks of one second\n",
    "    for start in tqdm(range(0, num_samples, sampling_rate)):\n",
    "        end = start + sampling_rate\n",
    "        for ch in range(num_channels):\n",
    "            edf.writePhysicalSamples(eeg_data[start:end, ch])\n",
    "    \n",
    "print(\"EDF+ file saved as\", edf_file_path)\n"
   ],
   "id": "af0a076939704a4d",
   "outputs": [
    {
     "ename": "NameError",
     "evalue": "name 'file_path' is not defined",
     "output_type": "error",
     "traceback": [
      "\u001B[1;31m---------------------------------------------------------------------------\u001B[0m",
      "\u001B[1;31mNameError\u001B[0m                                 Traceback (most recent call last)",
      "Cell \u001B[1;32mIn[4], line 8\u001B[0m\n\u001B[0;32m      5\u001B[0m \u001B[38;5;66;03m# Load the data from .easy format\u001B[39;00m\n\u001B[0;32m      6\u001B[0m column_names \u001B[38;5;241m=\u001B[39m [\u001B[38;5;124m'\u001B[39m\u001B[38;5;124mCh\u001B[39m\u001B[38;5;124m'\u001B[39m \u001B[38;5;241m+\u001B[39m \u001B[38;5;28mstr\u001B[39m(i\u001B[38;5;241m+\u001B[39m\u001B[38;5;241m1\u001B[39m) \u001B[38;5;28;01mfor\u001B[39;00m i \u001B[38;5;129;01min\u001B[39;00m \u001B[38;5;28mrange\u001B[39m(\u001B[38;5;241m8\u001B[39m)] \u001B[38;5;241m+\u001B[39m [\u001B[38;5;124m'\u001B[39m\u001B[38;5;124maX\u001B[39m\u001B[38;5;124m'\u001B[39m, \u001B[38;5;124m'\u001B[39m\u001B[38;5;124maY\u001B[39m\u001B[38;5;124m'\u001B[39m, \u001B[38;5;124m'\u001B[39m\u001B[38;5;124maZ\u001B[39m\u001B[38;5;124m'\u001B[39m, \u001B[38;5;124m'\u001B[39m\u001B[38;5;124mTrigger\u001B[39m\u001B[38;5;124m'\u001B[39m, \u001B[38;5;124m'\u001B[39m\u001B[38;5;124mTimestamp\u001B[39m\u001B[38;5;124m'\u001B[39m]\n\u001B[1;32m----> 8\u001B[0m data \u001B[38;5;241m=\u001B[39m pd\u001B[38;5;241m.\u001B[39mread_csv(file_path, delimiter\u001B[38;5;241m=\u001B[39m\u001B[38;5;124m'\u001B[39m\u001B[38;5;130;01m\\t\u001B[39;00m\u001B[38;5;124m'\u001B[39m, names\u001B[38;5;241m=\u001B[39mcolumn_names)\n\u001B[0;32m     10\u001B[0m \u001B[38;5;66;03m# Convert units from nanovolts (nV) to microvolts (µV) as EDF standard uses µV\u001B[39;00m\n\u001B[0;32m     11\u001B[0m \u001B[38;5;66;03m# Extract data and timestamps\u001B[39;00m\n\u001B[0;32m     12\u001B[0m eeg_data \u001B[38;5;241m=\u001B[39m data\u001B[38;5;241m.\u001B[39miloc[:, :\u001B[38;5;241m8\u001B[39m]\u001B[38;5;241m.\u001B[39mvalues\u001B[38;5;241m/\u001B[39m\u001B[38;5;241m1000\u001B[39m  \u001B[38;5;66;03m# EEG channels\u001B[39;00m\n",
      "\u001B[1;31mNameError\u001B[0m: name 'file_path' is not defined"
     ]
    }
   ],
   "execution_count": 4
  },
  {
   "metadata": {
    "ExecuteTime": {
     "end_time": "2024-10-28T06:49:30.045484Z",
     "start_time": "2024-10-28T06:49:30.025049Z"
    }
   },
   "cell_type": "code",
   "source": "eeg_data.shape",
   "id": "5ad635508426c301",
   "outputs": [
    {
     "ename": "NameError",
     "evalue": "name 'eeg_data' is not defined",
     "output_type": "error",
     "traceback": [
      "\u001B[1;31m---------------------------------------------------------------------------\u001B[0m",
      "\u001B[1;31mNameError\u001B[0m                                 Traceback (most recent call last)",
      "Cell \u001B[1;32mIn[2], line 1\u001B[0m\n\u001B[1;32m----> 1\u001B[0m eeg_data\u001B[38;5;241m.\u001B[39mshape\n",
      "\u001B[1;31mNameError\u001B[0m: name 'eeg_data' is not defined"
     ]
    }
   ],
   "execution_count": 2
  }
 ],
 "metadata": {
  "kernelspec": {
   "display_name": "Python 3",
   "language": "python",
   "name": "python3"
  },
  "language_info": {
   "codemirror_mode": {
    "name": "ipython",
    "version": 2
   },
   "file_extension": ".py",
   "mimetype": "text/x-python",
   "name": "python",
   "nbconvert_exporter": "python",
   "pygments_lexer": "ipython2",
   "version": "2.7.6"
  }
 },
 "nbformat": 4,
 "nbformat_minor": 5
}
